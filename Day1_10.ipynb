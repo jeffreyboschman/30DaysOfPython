{
  "nbformat": 4,
  "nbformat_minor": 0,
  "metadata": {
    "colab": {
      "name": "Day1-10.ipynb",
      "provenance": [],
      "collapsed_sections": [
        "M7xPKPS_hPgr"
      ],
      "authorship_tag": "ABX9TyNFgTNfn5jPenPK8xj+rQ5B",
      "include_colab_link": true
    },
    "kernelspec": {
      "name": "python3",
      "display_name": "Python 3"
    },
    "language_info": {
      "name": "python"
    }
  },
  "cells": [
    {
      "cell_type": "markdown",
      "metadata": {
        "id": "view-in-github",
        "colab_type": "text"
      },
      "source": [
        "<a href=\"https://colab.research.google.com/github/jeffreyboschman/30DaysOfPython/blob/main/Day1_10.ipynb\" target=\"_parent\"><img src=\"https://colab.research.google.com/assets/colab-badge.svg\" alt=\"Open In Colab\"/></a>"
      ]
    },
    {
      "cell_type": "markdown",
      "metadata": {
        "id": "M7xPKPS_hPgr"
      },
      "source": [
        "## Day 1: Print a list on new lines"
      ]
    },
    {
      "cell_type": "markdown",
      "metadata": {
        "id": "XoP1fgjdhjLm"
      },
      "source": [
        "Given the list `names`, print the each element on a new line"
      ]
    },
    {
      "cell_type": "code",
      "metadata": {
        "id": "pqg4LS4ThLnM"
      },
      "source": [
        "names = ['John', 'James', 'Adam', 'Nico']"
      ],
      "execution_count": null,
      "outputs": []
    },
    {
      "cell_type": "markdown",
      "metadata": {
        "id": "wtEGGUb-iDMF"
      },
      "source": [
        "##### The beginner way (don't do this)"
      ]
    },
    {
      "cell_type": "code",
      "metadata": {
        "colab": {
          "base_uri": "https://localhost:8080/"
        },
        "id": "1M2DyGwSihEP",
        "outputId": "30d91e5f-e07e-48ca-ed36-9e83b7fe893b"
      },
      "source": [
        "for i in range(len(names)):\n",
        "  print(names[i])"
      ],
      "execution_count": null,
      "outputs": [
        {
          "output_type": "stream",
          "text": [
            "John\n",
            "James\n",
            "Adam\n",
            "Nico\n"
          ],
          "name": "stdout"
        }
      ]
    },
    {
      "cell_type": "markdown",
      "metadata": {
        "id": "T6LByZhbict7"
      },
      "source": [
        "##### A more Pythonic way"
      ]
    },
    {
      "cell_type": "code",
      "metadata": {
        "colab": {
          "base_uri": "https://localhost:8080/"
        },
        "id": "hKGg6QzohNCw",
        "outputId": "df1d1bde-75ee-4a4c-a05c-2da2d01b051e"
      },
      "source": [
        "for name in names:\n",
        "  print(name)"
      ],
      "execution_count": null,
      "outputs": [
        {
          "output_type": "stream",
          "text": [
            "John\n",
            "James\n",
            "Adam\n",
            "Nico\n"
          ],
          "name": "stdout"
        }
      ]
    },
    {
      "cell_type": "markdown",
      "metadata": {
        "id": "Nejm519JiGPW"
      },
      "source": [
        "##### The advanced Pythonic way"
      ]
    },
    {
      "cell_type": "code",
      "metadata": {
        "colab": {
          "base_uri": "https://localhost:8080/"
        },
        "id": "RLY1SDhxh4kj",
        "outputId": "82431f4d-2455-43ca-cd30-1eddbb63708e"
      },
      "source": [
        "print(*names, sep=\"\\n\")"
      ],
      "execution_count": null,
      "outputs": [
        {
          "output_type": "stream",
          "text": [
            "John\n",
            "James\n",
            "Adam\n",
            "Nico\n"
          ],
          "name": "stdout"
        }
      ]
    },
    {
      "cell_type": "markdown",
      "metadata": {
        "id": "qRNksVAgAnBs"
      },
      "source": [
        "Specifically, what this does is feed the argument names as a tuple"
      ]
    },
    {
      "cell_type": "markdown",
      "metadata": {
        "id": "15XydosWAYm-"
      },
      "source": [
        "## Day 2: Swap variables"
      ]
    },
    {
      "cell_type": "markdown",
      "metadata": {
        "id": "erBvxz1eBYYV"
      },
      "source": [
        "Given two variables, swap their values"
      ]
    },
    {
      "cell_type": "code",
      "metadata": {
        "id": "fQylbW4iBXGk"
      },
      "source": [
        "low = 10\n",
        "high = 9"
      ],
      "execution_count": 1,
      "outputs": []
    },
    {
      "cell_type": "markdown",
      "metadata": {
        "id": "aV49grScBdcZ"
      },
      "source": [
        "##### The beginner way"
      ]
    },
    {
      "cell_type": "code",
      "metadata": {
        "colab": {
          "base_uri": "https://localhost:8080/"
        },
        "id": "wlg0QX1bAbAz",
        "outputId": "89d4c0c1-574e-4a2f-faa4-46c03528790b"
      },
      "source": [
        "low = 10\n",
        "high = 9\n",
        "\n",
        "if low > high:\n",
        "    temp = low\n",
        "    low = high\n",
        "    high = temp\n",
        "\n",
        "print(low, high)"
      ],
      "execution_count": 2,
      "outputs": [
        {
          "output_type": "stream",
          "text": [
            "9 10\n"
          ],
          "name": "stdout"
        }
      ]
    },
    {
      "cell_type": "markdown",
      "metadata": {
        "id": "8lUn7lb0Bsey"
      },
      "source": [
        "##### A more Pythonic way"
      ]
    },
    {
      "cell_type": "code",
      "metadata": {
        "colab": {
          "base_uri": "https://localhost:8080/"
        },
        "id": "BOwhCUzPBST6",
        "outputId": "a5a43277-638c-47f5-94a7-d1fbf60a6be2"
      },
      "source": [
        "low = 10\n",
        "high = 9\n",
        "\n",
        "if low > high:\n",
        "    low, high = high, low\n",
        "\n",
        "print(low, high)"
      ],
      "execution_count": 3,
      "outputs": [
        {
          "output_type": "stream",
          "text": [
            "9 10\n"
          ],
          "name": "stdout"
        }
      ]
    },
    {
      "cell_type": "code",
      "metadata": {
        "id": "H9AqAaEpBUFg"
      },
      "source": [
        ""
      ],
      "execution_count": 3,
      "outputs": []
    },
    {
      "cell_type": "markdown",
      "metadata": {
        "id": "hlKEOkhiKrHk"
      },
      "source": [
        "## Day 3: Merge dictionaries"
      ]
    },
    {
      "cell_type": "markdown",
      "metadata": {
        "id": "zVOrbCQlLCs4"
      },
      "source": [
        "Given the two dictionaries, merge them. \n",
        "\n"
      ]
    },
    {
      "cell_type": "code",
      "metadata": {
        "id": "gw9kszuiLQ-5"
      },
      "source": [
        "#python 3.5+\n",
        "dict1 = { 'a': 1, 'b': 2 }\n",
        "dict2 = { 'b': 3, 'c': 4 }"
      ],
      "execution_count": 7,
      "outputs": []
    },
    {
      "cell_type": "code",
      "metadata": {
        "colab": {
          "base_uri": "https://localhost:8080/"
        },
        "id": "tVMoIqwpKt-c",
        "outputId": "023076b2-37aa-4514-d9c1-9bbf2130d999"
      },
      "source": [
        "\n",
        "dict1 = { 'a': 1, 'b': 2 }\n",
        "dict2 = { 'b': 3, 'c': 4 }\n",
        "merged = { **dict1, **dict2 }\n",
        "\n",
        "print (merged)"
      ],
      "execution_count": 8,
      "outputs": [
        {
          "output_type": "stream",
          "text": [
            "{'a': 1, 'b': 3, 'c': 4}\n"
          ],
          "name": "stdout"
        }
      ]
    },
    {
      "cell_type": "code",
      "metadata": {
        "id": "jqaa09beLQKj"
      },
      "source": [
        "# Python >= 3.9 only\n",
        "#merged = dict1 | dict2\n",
        "\n",
        "#print (merged)"
      ],
      "execution_count": 10,
      "outputs": []
    },
    {
      "cell_type": "code",
      "metadata": {
        "id": "1ySP9Tq8Mfuc"
      },
      "source": [
        ""
      ],
      "execution_count": null,
      "outputs": []
    }
  ]
}